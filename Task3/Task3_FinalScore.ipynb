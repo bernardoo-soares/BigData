{
 "cells": [
  {
   "cell_type": "markdown",
   "metadata": {},
   "source": [
    "# Politician score\n",
    "\n",
    "- In this script we use the results computed in other tasks to give a score to each politician that can relate to their performance throughout the campaign.\n",
    "\n",
    "- This will be based on their behaviour, speaking time and identified emotions."
   ]
  },
  {
   "cell_type": "code",
   "execution_count": null,
   "metadata": {},
   "outputs": [],
   "source": [
    "# Emotional score for each politician\n",
    "Ventura = []\n",
    "Montenegro = []\n",
    "PNS = []\n",
    "Mortagua = []\n",
    "PauloRaimundo = []\n",
    "RuiRocha = []\n",
    "RuiTavares = []\n",
    "InesSousaReal = []\n",
    "\n",
    "# Add scores to each politician by debate\n",
    "# AD vs Chega\n",
    "Montenegro.append(-0.4046434494195688)\n",
    "Ventura.append(1.5514096185737978)\n",
    "\n",
    "# AD vs PS"
   ]
  }
 ],
 "metadata": {
  "language_info": {
   "name": "python"
  }
 },
 "nbformat": 4,
 "nbformat_minor": 2
}
